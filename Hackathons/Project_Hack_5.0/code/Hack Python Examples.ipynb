{
  "nbformat": 4,
  "nbformat_minor": 0,
  "metadata": {
    "colab": {
      "name": "Untitled0.ipynb",
      "provenance": [],
      "toc_visible": true
    },
    "kernelspec": {
      "display_name": "Python 3",
      "language": "python",
      "name": "python3"
    },
    "language_info": {
      "codemirror_mode": {
        "name": "ipython",
        "version": 3
      },
      "file_extension": ".py",
      "mimetype": "text/x-python",
      "name": "python",
      "nbconvert_exporter": "python",
      "pygments_lexer": "ipython3",
      "version": "3.7.3"
    }
  },
  "cells": [
    {
      "cell_type": "markdown",
      "metadata": {
        "colab_type": "text",
        "id": "WmDYaHN8pN0a"
      },
      "source": [
        "# **Strings, Lists, Tuples, Sets, Dictionaries, Data Types, Variables, Naming conventions, Functions and conventions!**\n",
        "\n"
      ]
    },
    {
      "cell_type": "markdown",
      "metadata": {
        "id": "3dyx2PeNtwi_",
        "colab_type": "text"
      },
      "source": [
        "![alt text](https://raw.githubusercontent.com/James-G-Smith/Python-projects/master/Hackathons/Project_Hack_5.0/img/Ph5_banner.jpg)\n",
        "\n",
        "\n"
      ]
    },
    {
      "cell_type": "markdown",
      "metadata": {
        "id": "926PRQjbttrh",
        "colab_type": "text"
      },
      "source": [
        "## Python basics\n",
        "\n"
      ]
    },
    {
      "cell_type": "markdown",
      "metadata": {
        "id": "g3M3J2Eqttrn",
        "colab_type": "text"
      },
      "source": [
        "### Python Data Types"
      ]
    },
    {
      "cell_type": "code",
      "metadata": {
        "id": "JfJR9QxYttru",
        "colab_type": "code",
        "colab": {}
      },
      "source": [
        "5"
      ],
      "execution_count": 0,
      "outputs": []
    },
    {
      "cell_type": "code",
      "metadata": {
        "id": "2qJQkTU2ttsR",
        "colab_type": "code",
        "colab": {}
      },
      "source": [
        "type(5)"
      ],
      "execution_count": 0,
      "outputs": []
    },
    {
      "cell_type": "code",
      "metadata": {
        "id": "hlh9c0pkttsg",
        "colab_type": "code",
        "colab": {}
      },
      "source": [
        "1.0"
      ],
      "execution_count": 0,
      "outputs": []
    },
    {
      "cell_type": "code",
      "metadata": {
        "id": "mYYp7Fpfttsy",
        "colab_type": "code",
        "colab": {}
      },
      "source": [
        "type(1.0)"
      ],
      "execution_count": 0,
      "outputs": []
    },
    {
      "cell_type": "code",
      "metadata": {
        "id": "mdMbcd4XtttD",
        "colab_type": "code",
        "colab": {}
      },
      "source": [
        "4+5j"
      ],
      "execution_count": 0,
      "outputs": []
    },
    {
      "cell_type": "code",
      "metadata": {
        "id": "llrljPawtttT",
        "colab_type": "code",
        "colab": {}
      },
      "source": [
        "type(4+5j)"
      ],
      "execution_count": 0,
      "outputs": []
    },
    {
      "cell_type": "markdown",
      "metadata": {
        "id": "40VQYyfHtttl",
        "colab_type": "text"
      },
      "source": [
        "#### Number Operations"
      ]
    },
    {
      "cell_type": "code",
      "metadata": {
        "id": "LPAjUxPetttu",
        "colab_type": "code",
        "colab": {}
      },
      "source": [
        "#Addition\n",
        "2+2"
      ],
      "execution_count": 0,
      "outputs": []
    },
    {
      "cell_type": "code",
      "metadata": {
        "id": "6oOChN-0ttt-",
        "colab_type": "code",
        "colab": {}
      },
      "source": [
        "#Subtraction\n",
        "5-1"
      ],
      "execution_count": 0,
      "outputs": []
    },
    {
      "cell_type": "code",
      "metadata": {
        "id": "QrA7BRpittuJ",
        "colab_type": "code",
        "colab": {}
      },
      "source": [
        "#Multiplication\n",
        "5*4"
      ],
      "execution_count": 0,
      "outputs": []
    },
    {
      "cell_type": "code",
      "metadata": {
        "id": "QBWsUR_2ttuV",
        "colab_type": "code",
        "colab": {}
      },
      "source": [
        "#Division\n",
        "10/2"
      ],
      "execution_count": 0,
      "outputs": []
    },
    {
      "cell_type": "markdown",
      "metadata": {
        "id": "8GpMKpNZttuf",
        "colab_type": "text"
      },
      "source": [
        "#### Boolean"
      ]
    },
    {
      "cell_type": "code",
      "metadata": {
        "id": "znIrTDbGttui",
        "colab_type": "code",
        "colab": {}
      },
      "source": [
        "not True"
      ],
      "execution_count": 0,
      "outputs": []
    },
    {
      "cell_type": "code",
      "metadata": {
        "id": "6lr0c-LKttux",
        "colab_type": "code",
        "colab": {}
      },
      "source": [
        "not False"
      ],
      "execution_count": 0,
      "outputs": []
    },
    {
      "cell_type": "code",
      "metadata": {
        "id": "8XqPRjk2ttu9",
        "colab_type": "code",
        "colab": {}
      },
      "source": [
        "x = 15\n",
        "\n",
        "isinstance(x,int)"
      ],
      "execution_count": 0,
      "outputs": []
    },
    {
      "cell_type": "code",
      "metadata": {
        "id": "qg1I_3h5ttvH",
        "colab_type": "code",
        "colab": {}
      },
      "source": [
        "isinstance(x,float)"
      ],
      "execution_count": 0,
      "outputs": []
    },
    {
      "cell_type": "markdown",
      "metadata": {
        "id": "jFwtwFpJttvR",
        "colab_type": "text"
      },
      "source": [
        "#### Strings"
      ]
    },
    {
      "cell_type": "code",
      "metadata": {
        "id": "0pxFfUbattvU",
        "colab_type": "code",
        "colab": {}
      },
      "source": [
        "\"Hello\""
      ],
      "execution_count": 0,
      "outputs": []
    },
    {
      "cell_type": "code",
      "metadata": {
        "id": "NwDSoJbKttvg",
        "colab_type": "code",
        "colab": {}
      },
      "source": [
        "'My string'"
      ],
      "execution_count": 0,
      "outputs": []
    },
    {
      "cell_type": "code",
      "metadata": {
        "id": "9Y7g1r1rttvo",
        "colab_type": "code",
        "colab": {}
      },
      "source": [
        "\"It's a sunny day\""
      ],
      "execution_count": 0,
      "outputs": []
    },
    {
      "cell_type": "markdown",
      "metadata": {
        "id": "W3kqJ6KVttvx",
        "colab_type": "text"
      },
      "source": [
        "#### Lists"
      ]
    },
    {
      "cell_type": "code",
      "metadata": {
        "id": "--o5xpX8ttvz",
        "colab_type": "code",
        "colab": {}
      },
      "source": [
        "[]"
      ],
      "execution_count": 0,
      "outputs": []
    },
    {
      "cell_type": "code",
      "metadata": {
        "id": "b3_BVZB4ttv9",
        "colab_type": "code",
        "colab": {}
      },
      "source": [
        "[2,5,3,9,4]"
      ],
      "execution_count": 0,
      "outputs": []
    },
    {
      "cell_type": "code",
      "metadata": {
        "id": "CJTPIIgpttwE",
        "colab_type": "code",
        "colab": {}
      },
      "source": [
        "[\"hello\",4,\"hi\",9.7]"
      ],
      "execution_count": 0,
      "outputs": []
    },
    {
      "cell_type": "markdown",
      "metadata": {
        "id": "sE98BBMqttwM",
        "colab_type": "text"
      },
      "source": [
        "#### Tuples"
      ]
    },
    {
      "cell_type": "code",
      "metadata": {
        "id": "mdth_eTkttwP",
        "colab_type": "code",
        "colab": {}
      },
      "source": [
        "(3,\"Hi\",1)"
      ],
      "execution_count": 0,
      "outputs": []
    },
    {
      "cell_type": "code",
      "metadata": {
        "id": "GDClJ1oXttwX",
        "colab_type": "code",
        "colab": {}
      },
      "source": [
        "(1,2,3)"
      ],
      "execution_count": 0,
      "outputs": []
    },
    {
      "cell_type": "markdown",
      "metadata": {
        "id": "t4euukCCttwg",
        "colab_type": "text"
      },
      "source": [
        "#### Sets"
      ]
    },
    {
      "cell_type": "code",
      "metadata": {
        "id": "L7uTlRs6ttwi",
        "colab_type": "code",
        "colab": {}
      },
      "source": [
        "{3,4,5,6}"
      ],
      "execution_count": 0,
      "outputs": []
    },
    {
      "cell_type": "code",
      "metadata": {
        "id": "A2JQk1Yattwq",
        "colab_type": "code",
        "colab": {}
      },
      "source": [
        "set({3,4,5,6})"
      ],
      "execution_count": 0,
      "outputs": []
    },
    {
      "cell_type": "markdown",
      "metadata": {
        "id": "McGpRSdhttwy",
        "colab_type": "text"
      },
      "source": [
        "#### Dictionaries"
      ]
    },
    {
      "cell_type": "code",
      "metadata": {
        "id": "jlvQSigTttw0",
        "colab_type": "code",
        "colab": {}
      },
      "source": [
        "# a dictionary with integer keys\n",
        "{1: 'apple', 2: 'banana', 3: 'orange'}"
      ],
      "execution_count": 0,
      "outputs": []
    },
    {
      "cell_type": "code",
      "metadata": {
        "id": "QASwIz1lttw9",
        "colab_type": "code",
        "colab": {}
      },
      "source": [
        "#a dictionary with string keys\n",
        "{'a': 'apple', 'b': 'banana'}"
      ],
      "execution_count": 0,
      "outputs": []
    },
    {
      "cell_type": "code",
      "metadata": {
        "id": "wfP9YXRKttxG",
        "colab_type": "code",
        "colab": {}
      },
      "source": [
        "#a dictionary with mixed key types\n",
        "{1: 'apple', 'b': 'banana'}"
      ],
      "execution_count": 0,
      "outputs": []
    },
    {
      "cell_type": "markdown",
      "metadata": {
        "colab_type": "text",
        "id": "ybU14Lz3rI83"
      },
      "source": [
        "## Variables, Naming Conventions & Print Function"
      ]
    },
    {
      "cell_type": "markdown",
      "metadata": {
        "id": "deES-AYLttxT",
        "colab_type": "text"
      },
      "source": [
        "### Variables"
      ]
    },
    {
      "cell_type": "code",
      "metadata": {
        "id": "vDOS0HR9ttxX",
        "colab_type": "code",
        "colab": {}
      },
      "source": [
        "X = 7"
      ],
      "execution_count": 0,
      "outputs": []
    },
    {
      "cell_type": "code",
      "metadata": {
        "id": "2IKJl-6Wttxh",
        "colab_type": "code",
        "colab": {}
      },
      "source": [
        "Name = \"Bob\"\n"
      ],
      "execution_count": 0,
      "outputs": []
    },
    {
      "cell_type": "code",
      "metadata": {
        "id": "fnaGO7ALttxu",
        "colab_type": "code",
        "colab": {}
      },
      "source": [
        "_weather = 'It is sunny today'\n"
      ],
      "execution_count": 0,
      "outputs": []
    },
    {
      "cell_type": "markdown",
      "metadata": {
        "id": "JFtNPxMyttx3",
        "colab_type": "text"
      },
      "source": [
        "### Naming conventions"
      ]
    },
    {
      "cell_type": "code",
      "metadata": {
        "id": "V21K8H0Rttx7",
        "colab_type": "code",
        "colab": {}
      },
      "source": [
        "user_info = []"
      ],
      "execution_count": 0,
      "outputs": []
    },
    {
      "cell_type": "code",
      "metadata": {
        "id": "IyAX0f9dttyD",
        "colab_type": "code",
        "colab": {}
      },
      "source": [
        "move_integers = {}"
      ],
      "execution_count": 0,
      "outputs": []
    },
    {
      "cell_type": "markdown",
      "metadata": {
        "colab_type": "text",
        "id": "6trQ5u-ar_zz"
      },
      "source": [
        "### Print Function"
      ]
    },
    {
      "cell_type": "code",
      "metadata": {
        "colab_type": "code",
        "id": "mptfMyrbphCp",
        "colab": {}
      },
      "source": [
        "print (\"Hello World\")"
      ],
      "execution_count": 0,
      "outputs": []
    },
    {
      "cell_type": "code",
      "metadata": {
        "id": "32YmRTmUttyU",
        "colab_type": "code",
        "colab": {}
      },
      "source": [
        "print(Name)"
      ],
      "execution_count": 0,
      "outputs": []
    },
    {
      "cell_type": "code",
      "metadata": {
        "id": "WZdprmxtttye",
        "colab_type": "code",
        "colab": {}
      },
      "source": [
        "print(X + Bob)"
      ],
      "execution_count": 0,
      "outputs": []
    },
    {
      "cell_type": "markdown",
      "metadata": {
        "id": "KHARw_hTttyl",
        "colab_type": "text"
      },
      "source": [
        "## String Operations"
      ]
    },
    {
      "cell_type": "markdown",
      "metadata": {
        "id": "LKIFL7Arttyn",
        "colab_type": "text"
      },
      "source": [
        "### Built-In string functions"
      ]
    },
    {
      "cell_type": "code",
      "metadata": {
        "id": "B5zaWbP5ttyq",
        "colab_type": "code",
        "colab": {}
      },
      "source": [
        "string = \"This is the best masterclass I've ever seen!!\""
      ],
      "execution_count": 0,
      "outputs": []
    },
    {
      "cell_type": "code",
      "metadata": {
        "id": "wX0oSGc7ttyx",
        "colab_type": "code",
        "colab": {}
      },
      "source": [
        "string.lower()"
      ],
      "execution_count": 0,
      "outputs": []
    },
    {
      "cell_type": "code",
      "metadata": {
        "id": "MtPWfe06tty7",
        "colab_type": "code",
        "colab": {}
      },
      "source": [
        "string.upper()"
      ],
      "execution_count": 0,
      "outputs": []
    },
    {
      "cell_type": "code",
      "metadata": {
        "id": "fVMi23LKttzC",
        "colab_type": "code",
        "colab": {}
      },
      "source": [
        "string.capitalize() "
      ],
      "execution_count": 0,
      "outputs": []
    },
    {
      "cell_type": "code",
      "metadata": {
        "id": "6ZX9My8xttzK",
        "colab_type": "code",
        "colab": {}
      },
      "source": [
        "string.strip() "
      ],
      "execution_count": 0,
      "outputs": []
    },
    {
      "cell_type": "code",
      "metadata": {
        "id": "n-n1G-8cttzR",
        "colab_type": "code",
        "colab": {}
      },
      "source": [
        "string.split(\" \") "
      ],
      "execution_count": 0,
      "outputs": []
    },
    {
      "cell_type": "code",
      "metadata": {
        "id": "pcDQtMRdttzZ",
        "colab_type": "code",
        "colab": {}
      },
      "source": [
        "string.split() "
      ],
      "execution_count": 0,
      "outputs": []
    },
    {
      "cell_type": "markdown",
      "metadata": {
        "id": "3TROjbkYttzg",
        "colab_type": "text"
      },
      "source": [
        "### String slicing"
      ]
    },
    {
      "cell_type": "code",
      "metadata": {
        "id": "a6epfZqmttzi",
        "colab_type": "code",
        "colab": {}
      },
      "source": [
        "name = \"John\""
      ],
      "execution_count": 0,
      "outputs": []
    },
    {
      "cell_type": "code",
      "metadata": {
        "id": "dPQjRHkjttzp",
        "colab_type": "code",
        "colab": {}
      },
      "source": [
        "name[0:2]"
      ],
      "execution_count": 0,
      "outputs": []
    },
    {
      "cell_type": "code",
      "metadata": {
        "id": "5wG6Ja3wttzv",
        "colab_type": "code",
        "colab": {}
      },
      "source": [
        "name[:2]"
      ],
      "execution_count": 0,
      "outputs": []
    },
    {
      "cell_type": "code",
      "metadata": {
        "id": "7bjG3tSdttz2",
        "colab_type": "code",
        "colab": {}
      },
      "source": [
        "name[1:]"
      ],
      "execution_count": 0,
      "outputs": []
    },
    {
      "cell_type": "markdown",
      "metadata": {
        "id": "YFzbjIYHttz-",
        "colab_type": "text"
      },
      "source": [
        "##### Exercise"
      ]
    },
    {
      "cell_type": "code",
      "metadata": {
        "id": "0aSuqkUItt0A",
        "colab_type": "code",
        "colab": {}
      },
      "source": [
        "#Print out ALL but the last two letters of John"
      ],
      "execution_count": 0,
      "outputs": []
    },
    {
      "cell_type": "code",
      "metadata": {
        "id": "B_I24Wbgtt0I",
        "colab_type": "code",
        "colab": {}
      },
      "source": [
        ""
      ],
      "execution_count": 0,
      "outputs": []
    },
    {
      "cell_type": "markdown",
      "metadata": {
        "colab_type": "text",
        "id": "6pD01l4eoQtW"
      },
      "source": [
        "## Procedures and Functions"
      ]
    },
    {
      "cell_type": "markdown",
      "metadata": {
        "colab_type": "text",
        "id": "JL5PRqtboZXd"
      },
      "source": [
        "### Procedures"
      ]
    },
    {
      "cell_type": "code",
      "metadata": {
        "id": "6UmpN4q1tt1W",
        "colab_type": "code",
        "colab": {}
      },
      "source": [
        "#This is a procedure called output\n",
        "#It will print a given number and its square\n",
        "\n",
        "def output(number):\n",
        "\tprint(number,\"squared =\",number*number)\n",
        "\n",
        "#This is the start of the main program\n",
        "number = 1\n",
        "while number < 21:\n",
        "\toutput(number)\n",
        "\tnumber = number + 1"
      ],
      "execution_count": 0,
      "outputs": []
    },
    {
      "cell_type": "code",
      "metadata": {
        "id": "AI6tzsfqtt2H",
        "colab_type": "code",
        "colab": {}
      },
      "source": [
        "def output(grade,score=50,feedback=\"Well done!\"):\n",
        "\tprint(\"You scored\",score,\"which is a grade\",grade,feedback)\n",
        "\n",
        "output(\"C\")\n",
        "output(\"A\",87)\n",
        "output(\"E\",12,\"Rubbish!\")"
      ],
      "execution_count": 0,
      "outputs": []
    },
    {
      "cell_type": "markdown",
      "metadata": {
        "id": "LN98gFVgtt2O",
        "colab_type": "text"
      },
      "source": [
        "### Functions"
      ]
    },
    {
      "cell_type": "code",
      "metadata": {
        "id": "bcwLGGCWtt2P",
        "colab_type": "code",
        "colab": {}
      },
      "source": [
        "def calculate(number):\n",
        "\tnewnumber = number / 100\n",
        "\treturn (newnumber)\n"
      ],
      "execution_count": 0,
      "outputs": []
    },
    {
      "cell_type": "markdown",
      "metadata": {
        "colab_type": "text",
        "id": "OPKyznJ2p5Ew"
      },
      "source": [
        "# Fibonacci Sequence"
      ]
    },
    {
      "cell_type": "code",
      "metadata": {
        "id": "uujHb-xEtt2W",
        "colab_type": "code",
        "colab": {}
      },
      "source": [
        "#It is the sequence"
      ],
      "execution_count": 0,
      "outputs": []
    },
    {
      "cell_type": "code",
      "metadata": {
        "id": "Lwn3XjuCtt2c",
        "colab_type": "code",
        "colab": {}
      },
      "source": [
        "FS = [0, 1, 1, 2, 3, 5, 8, 13, 21, 34,...]"
      ],
      "execution_count": 0,
      "outputs": []
    },
    {
      "cell_type": "code",
      "metadata": {
        "id": "bXBR0QFjtt2i",
        "colab_type": "code",
        "colab": {}
      },
      "source": [
        "print(FS)"
      ],
      "execution_count": 0,
      "outputs": []
    },
    {
      "cell_type": "code",
      "metadata": {
        "colab_type": "code",
        "id": "lDe0E_eLp_gM",
        "colab": {}
      },
      "source": [
        "##### Create a function that is able find any nth number in the Fibonacci sequence."
      ],
      "execution_count": 0,
      "outputs": []
    },
    {
      "cell_type": "code",
      "metadata": {
        "id": "2x_rzQEhtt2r",
        "colab_type": "code",
        "colab": {}
      },
      "source": [
        ""
      ],
      "execution_count": 0,
      "outputs": []
    },
    {
      "cell_type": "markdown",
      "metadata": {
        "id": "wq-TOPbCtt2u",
        "colab_type": "text"
      },
      "source": [
        "# Fun Coding Examples"
      ]
    },
    {
      "cell_type": "markdown",
      "metadata": {
        "colab_type": "text",
        "id": "JkvWzma1q_Ug"
      },
      "source": [
        "## Calculate number of upper/lower case letters in string"
      ]
    },
    {
      "cell_type": "code",
      "metadata": {
        "colab_type": "code",
        "id": "lrzKXqhUrEZ5",
        "colab": {}
      },
      "source": [
        "def string_test(s):\n",
        "    d={\"UPPER_CASE\":0, \"LOWER_CASE\":0}\n",
        "    for c in s:\n",
        "        if c.isupper():\n",
        "           d[\"UPPER_CASE\"]+=1\n",
        "        elif c.islower():\n",
        "           d[\"LOWER_CASE\"]+=1\n",
        "        else:\n",
        "           pass\n",
        "    print (\"Original String : \", s)\n",
        "    print (\"No. of Upper case characters : \", d[\"UPPER_CASE\"])\n",
        "    print (\"No. of Lower case Characters : \", d[\"LOWER_CASE\"])\n",
        "\n",
        "string_test('The quick Brown Fox')"
      ],
      "execution_count": 0,
      "outputs": []
    },
    {
      "cell_type": "markdown",
      "metadata": {
        "colab_type": "text",
        "id": "AvF0ldc9ocxH"
      },
      "source": [
        "## Ceaser Cypher"
      ]
    },
    {
      "cell_type": "code",
      "metadata": {
        "colab_type": "code",
        "id": "3MFQamO4oBxF",
        "colab": {}
      },
      "source": [
        "def caesar_encrypt(realText, step):\n",
        "\toutText = []\n",
        "\tcryptText = []\n",
        "\t\n",
        "\tuppercase = ['A', 'B', 'C', 'D', 'E', 'F', 'G', 'H', 'I', 'J', 'K', 'L', 'M', 'N', 'O', 'P', 'Q', 'R', 'S', 'T', 'U', 'V', 'W', 'X', 'Y', 'Z']\n",
        "\tlowercase = ['a', 'b', 'c', 'd', 'e', 'f', 'g', 'h', 'i', 'j', 'k', 'l', 'm', 'n', 'o', 'p', 'q', 'r', 's', 't', 'u', 'v', 'w', 'x', 'y', 'z']\n",
        "\n",
        "\tfor eachLetter in realText:\n",
        "\t\tif eachLetter in uppercase:\n",
        "\t\t\tindex = uppercase.index(eachLetter)\n",
        "\t\t\tcrypting = (index + step) % 26\n",
        "\t\t\tcryptText.append(crypting)\n",
        "\t\t\tnewLetter = uppercase[crypting]\n",
        "\t\t\toutText.append(newLetter)\n",
        "\t\telif eachLetter in lowercase:\n",
        "\t\t\tindex = lowercase.index(eachLetter)\n",
        "\t\t\tcrypting = (index + step) % 26\n",
        "\t\t\tcryptText.append(crypting)\n",
        "\t\t\tnewLetter = lowercase[crypting]\n",
        "\t\t\toutText.append(newLetter)\n",
        "\treturn outText\n",
        "\n",
        "code = caesar_encrypt('abc', 2) #the letters 'a' 'b' 'c' are 2+ what their orignal value is so becomes 'c' 'd' 'e'\n",
        "print()\n",
        "print(code)\n",
        "print()"
      ],
      "execution_count": 0,
      "outputs": []
    },
    {
      "cell_type": "markdown",
      "metadata": {
        "id": "RanDTbb4tt26",
        "colab_type": "text"
      },
      "source": [
        "## Inputs"
      ]
    },
    {
      "cell_type": "code",
      "metadata": {
        "colab_type": "code",
        "id": "L9c4b5F0rRIu",
        "colab": {}
      },
      "source": [
        "first_name = input(\"Welcome to the hack! \\nWhat is your first name? \\n\") \n",
        "surname = input(\"What is your surname?\\n\")\n",
        "full_name = first_name + \" \" + surname\n",
        "print (\"Good to have you onboard \" + full_name)"
      ],
      "execution_count": 0,
      "outputs": []
    }
  ]
}